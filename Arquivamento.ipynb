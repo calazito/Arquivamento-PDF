{
 "cells": [
  {
   "cell_type": "code",
   "execution_count": null,
   "metadata": {},
   "outputs": [],
   "source": [
    "#Importar todas bibliotecas a serem utilizadas\n",
    "import os\n",
    "import pandas as pd\n",
    "import PyPDF2\n",
    "from PIL import Image"
   ]
  },
  {
   "cell_type": "code",
   "execution_count": null,
   "metadata": {},
   "outputs": [],
   "source": [
    "#Selecionar a lista chave\n",
    "Arquivos = os.listdir('./Pasta1') \n",
    "Arquivos = pd.DataFrame(Arquivos,columns = ['Nome do Arquivo'])\n",
    "Arquivos_Auxiliar = Arquivos['Nome do Arquivo']\n",
    "pd.set_option(\"display.max_rows\", None, \"display.max_columns\", None)\n",
    "\n",
    "#Converter todos arquivos para PDF\n",
    "for i in range(len(Arquivos_Auxiliar)):\n",
    "    aux = Arquivos_Auxiliar[i]\n",
    "    aux1 = aux[-3:]\n",
    "    aux2 = aux[-4:]\n",
    "    if aux1 == 'png':\n",
    "        Imagem = Image.open(r'./Pasta1/'+aux)\n",
    "        Im = Imagem.convert('RGB')\n",
    "        Im.save(r'./Pasta1/'+aux[0:(len(aux)-3)]+'pdf')\n",
    "    if aux1 == 'jpg':\n",
    "        Imagem = Image.open(r'./Pasta1/'+aux)\n",
    "        Im = Imagem.convert('RGB')\n",
    "        Im.save(r'./Pasta1/'+aux[0:(len(aux)-3)]+'pdf')\n",
    "    if aux2 == 'jpeg':\n",
    "        Imagem = Image.open(r'./Pasta1/'+aux)\n",
    "        Im = Imagem.convert('RGB')\n",
    "        Im.save(r'./Pasta1/'+aux[0:(len(aux)-4)]+'pdf')"
   ]
  },
  {
   "cell_type": "code",
   "execution_count": null,
   "metadata": {
    "scrolled": true
   },
   "outputs": [],
   "source": [
    "#Selecionar a lista objeto\n",
    "Arquivos_corpo = os.listdir('./Pasta2') \n",
    "Arquivos_corpo = pd.DataFrame(Arquivos_corpo,columns = ['Nome do Arquivo'])\n",
    "Arquivos_corpo_Auxiliar = Arquivos_corpo['Nome do Arquivo']\n",
    "\n",
    "#Converter todos arquivos em PDF\n",
    "for i in range(len(Arquivos_corpo_Auxiliar)):\n",
    "    aux = Arquivos_corpo_Auxiliar[i]\n",
    "    aux1 = aux[-3:]\n",
    "    aux2 = aux[-4:]\n",
    "    if aux1 == 'png':\n",
    "        Imagem = Image.open(r'./Pasta2/'+aux)\n",
    "        Im = Imagem.convert('RGB')\n",
    "        Im.save(r'./Pasta2/'+aux[0:(len(aux)-3)]+'pdf')\n",
    "    if aux1 == 'jpg':\n",
    "        Imagem = Image.open(r'./Pasta2/'+aux)\n",
    "        Im = Imagem.convert('RGB')\n",
    "        Im.save(r'./Pasta2/'+aux[0:(len(aux)-3)]+'pdf')\n",
    "    if aux2 == 'jpeg':\n",
    "        Imagem = Image.open(r'./Pasta2/'+aux)\n",
    "        Im = Imagem.convert('RGB')\n",
    "        Im.save(r'./Pasta2/'+aux[0:(len(aux)-4)]+'pdf')\n"
   ]
  },
  {
   "cell_type": "code",
   "execution_count": null,
   "metadata": {},
   "outputs": [],
   "source": [
    "#Selecionar a lista objeto\n",
    "Arquivos_corpo1 = os.listdir('./Pasta3') \n",
    "Arquivos_corpo1 = pd.DataFrame(Arquivos_corpo1,columns = ['Nome do Arquivo'])\n",
    "Arquivos_corpo1_Auxiliar = Arquivos_corpo1['Nome do Arquivo']\n",
    "\n",
    "#Converter todos arquivos em PDF\n",
    "for i in range(len(Arquivos_corpo1_Auxiliar)):\n",
    "    aux = Arquivos_corpo1_Auxiliar[i]\n",
    "    aux1 = aux[-3:]\n",
    "    aux2 = aux[-4:]\n",
    "    if aux1 == 'png':\n",
    "        Imagem = Image.open(r'./Pasta3/'+aux)\n",
    "        Im = Imagem.convert('RGB')\n",
    "        Im.save(r'./Pasta3/'+aux[0:(len(aux)-3)]+'pdf')\n",
    "    if aux1 == 'jpg':\n",
    "        Imagem = Image.open(r'./Pasta3/'+aux)\n",
    "        Im = Imagem.convert('RGB')\n",
    "        Im.save(r'./Pasta3/'+aux[0:(len(aux)-3)]+'pdf')\n",
    "    if aux2 == 'jpeg':\n",
    "        Imagem = Image.open(r'./Pasta3/'+aux)\n",
    "        Im = Imagem.convert('RGB')\n",
    "        Im.save(r'./Pasta3/'+aux[0:(len(aux)-4)]+'pdf')"
   ]
  },
  {
   "cell_type": "code",
   "execution_count": null,
   "metadata": {},
   "outputs": [],
   "source": [
    "#Criando o PDF Resultante\n",
    "\n",
    "for i in range(len(Arquivos_Auxiliar)):\n",
    "    aux = Arquivos_Auxiliar[i]\n",
    "    print(aux)\n",
    "    if aux[-3:] == 'pdf':    \n",
    "        PDF1 = open('./Pasta1/'+aux,'rb')\n",
    "        PDF1_leitura = PyPDF2.PdfFileReader(PDF1)\n",
    "        PDF_Resultante = PyPDF2.PdfFileWriter()\n",
    "    \n",
    "        for pageNum in range(PDF1_leitura.numPages):\n",
    "            aux2 = PDF1_leitura.getPage(pageNum)\n",
    "            PDF_Resultante.addPage(aux2)\n",
    "        \n",
    "        for j in range(len(Arquivos_corpo_Auxiliar)):\n",
    "            aux1 = Arquivos_corpo_Auxiliar[j]\n",
    "            PDF2 = open('./Pasta2/'+aux1,'rb')\n",
    "            if aux[0:4] == aux1[0:4] and aux1[-3:] == 'pdf':\n",
    "                PDF2_leitura = PyPDF2.PdfFileReader(PDF2)\n",
    "                for pageNum in range(PDF2_leitura.numPages):\n",
    "                    aux2 = PDF2_leitura.getPage(pageNum)\n",
    "                    PDF_Resultante.addPage(aux2)\n",
    "        \n",
    "        for z in range(len(Arquivos_corpo1_Auxiliar)):\n",
    "            aux3 = Arquivos_corpo1_Auxiliar[z]\n",
    "            PDF3 = open('./Pasta3/'+aux3,'rb')\n",
    "            if aux[0:4] == aux3[0:4] and aux3[-3:] == 'pdf':\n",
    "                PDF3_leitura = PyPDF2.PdfFileReader(PDF3)\n",
    "                for pageNum in range(PDF3_leitura.numPages):\n",
    "                    aux2 = PDF3_leitura.getPage(pageNum)\n",
    "                    PDF_Resultante.addPage(aux2)\n",
    "\n",
    "        nome = 'AG'+ aux\n",
    "        Resultante = open(nome,'wb')\n",
    "        PDF_Resultante.write(Resultante)\n",
    "        Resultante.close()\n",
    "        PDF1.close()\n",
    "        PDF2.close()\n",
    "        PDF3.close()"
   ]
  },
  {
   "cell_type": "code",
   "execution_count": null,
   "metadata": {},
   "outputs": [],
   "source": []
  }
 ],
 "metadata": {
  "kernelspec": {
   "display_name": "Python 3",
   "language": "python",
   "name": "python3"
  },
  "language_info": {
   "codemirror_mode": {
    "name": "ipython",
    "version": 3
   },
   "file_extension": ".py",
   "mimetype": "text/x-python",
   "name": "python",
   "nbconvert_exporter": "python",
   "pygments_lexer": "ipython3",
   "version": "3.8.5"
  }
 },
 "nbformat": 4,
 "nbformat_minor": 4
}
