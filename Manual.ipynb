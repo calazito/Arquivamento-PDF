{
 "cells": [
  {
   "cell_type": "markdown",
   "metadata": {},
   "source": [
    "Esse codigo servirá como um exemplo para a junção de PDFs dentro de uma pasta"
   ]
  },
  {
   "cell_type": "code",
   "execution_count": null,
   "metadata": {},
   "outputs": [],
   "source": [
    "#Primeiro é importante saber quais arquivos existem dentro do diretorio em que será trabalhado\n",
    "import os #Biblioteca para a função\n",
    "Arquivos = os.listdir('./Documentos') #Está associando na variavel uma lista com o nome dos arquivos"
   ]
  },
  {
   "cell_type": "code",
   "execution_count": null,
   "metadata": {},
   "outputs": [],
   "source": [
    "import pandas as pd #Biblioteca para a manipulação \n",
    "Arquivos = pd.DataFrame(Arquivos, columns = ['Nome do Arquivo']) #Objeto onde está salvo os nomes dos arquivos\n",
    "aux = Arquivos['Nome do Arquivo'] #Vetor auxiliar importante na hora de selecionar os PDFs desejados\n",
    "pd.set_option(\"display.max_rows\", None, \"display.max_columns\", None)\n",
    "Arquivos"
   ]
  },
  {
   "cell_type": "markdown",
   "metadata": {},
   "source": [
    "Adquiridos os dados, nessa etapa será selecionado os PDFs a serem unidos"
   ]
  },
  {
   "cell_type": "markdown",
   "metadata": {},
   "source": [
    "Deve ser colado nos a1, a2 e a3 os valores do indice dos PDF de interesse"
   ]
  },
  {
   "cell_type": "code",
   "execution_count": null,
   "metadata": {},
   "outputs": [],
   "source": [
    "#Variaveis auxiliares onde o usuario irá colocar o indice dos PDFs a serem unidos\n",
    "a1 = 4\n",
    "a2 = 8\n",
    "a3 = 9\n"
   ]
  },
  {
   "cell_type": "markdown",
   "metadata": {},
   "source": [
    "A parte a seguir do codigo é onde feita a criação do PDF"
   ]
  },
  {
   "cell_type": "code",
   "execution_count": null,
   "metadata": {},
   "outputs": [],
   "source": [
    "import PyPDF2 #Biblioteca para manipulação de PDFs\n",
    "#Arquivos que serão Unidos\n",
    "PDF1 = open('./Documentos/'+aux[a1],'rb') \n",
    "PDF2 = open('./Documentos/'+aux[a2],'rb') \n",
    "PDF3 = open('./Documentos/'+aux[a3],'rb') \n",
    "\n",
    "#Leitura dos arquivos\n",
    "PDF1_leitura = PyPDF2.PdfFileReader(PDF1)\n",
    "PDF2_leitura = PyPDF2.PdfFileReader(PDF2)\n",
    "PDF3_leitura = PyPDF2.PdfFileReader(PDF3)\n",
    "\n",
    "#Criar um PDF em branco\n",
    "PDF_saida = PyPDF2.PdfFileWriter()\n",
    "\n",
    "#Leitura de cada pagina de cada PDF\n",
    "for pageNum in range(PDF1_leitura.numPages):\n",
    "    aux2 = PDF1_leitura.getPage(pageNum)\n",
    "    PDF_saida.addPage(aux2)\n",
    "for pageNum in range(PDF2_leitura.numPages):\n",
    "    aux2 = PDF2_leitura.getPage(pageNum)\n",
    "    PDF_saida.addPage(aux2)\n",
    "for pageNum in range(PDF3_leitura.numPages):\n",
    "    aux2 = PDF3_leitura.getPage(pageNum)\n",
    "    PDF_saida.addPage(aux2)\n",
    "    "
   ]
  },
  {
   "cell_type": "markdown",
   "metadata": {},
   "source": [
    "A seguir há a necessidade de nomear o nome do PDF Unido"
   ]
  },
  {
   "cell_type": "code",
   "execution_count": null,
   "metadata": {},
   "outputs": [],
   "source": [
    "nome = 'AG0001-DDMM-TESTE2.pdf' #Colocar dentro das '' o nome do PDF resultante "
   ]
  },
  {
   "cell_type": "markdown",
   "metadata": {},
   "source": [
    "A seguir está a parte do codigo que ira criar o PDF"
   ]
  },
  {
   "cell_type": "code",
   "execution_count": null,
   "metadata": {},
   "outputs": [],
   "source": [
    "#Criação do PDF\n",
    "PDF_resultante = open(nome, 'wb')\n",
    "PDF_saida.write(PDF_resultante) \n",
    "\n",
    "#Fechar todos arquivos na memoria temporaria do computador\n",
    "PDF_resultante.close()\n",
    "PDF1.close()\n",
    "PDF2.close()\n",
    "PDF3.close()"
   ]
  },
  {
   "cell_type": "code",
   "execution_count": null,
   "metadata": {},
   "outputs": [],
   "source": []
  }
 ],
 "metadata": {
  "kernelspec": {
   "display_name": "Python 3",
   "language": "python",
   "name": "python3"
  },
  "language_info": {
   "codemirror_mode": {
    "name": "ipython",
    "version": 3
   },
   "file_extension": ".py",
   "mimetype": "text/x-python",
   "name": "python",
   "nbconvert_exporter": "python",
   "pygments_lexer": "ipython3",
   "version": "3.8.5"
  }
 },
 "nbformat": 4,
 "nbformat_minor": 4
}
